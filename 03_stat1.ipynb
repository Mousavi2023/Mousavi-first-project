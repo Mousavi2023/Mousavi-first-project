{
 "cells": [
  {
   "cell_type": "code",
   "execution_count": 5,
   "metadata": {},
   "outputs": [],
   "source": [
    "import geopandas as geo\n",
    "import numpy as np\n",
    "import matplotlib.pyplot as plt\n",
    "import matplotlib.path as mplPath\n",
    "import time\n",
    "\n",
    "from scipy.stats import skew\n",
    "from scipy.stats import kurtosis\n",
    "\n",
    "%matplotlib inline\n",
    "plt.style.use('classic')"
   ]
  },
  {
   "cell_type": "code",
   "execution_count": 6,
   "metadata": {},
   "outputs": [],
   "source": [
    "#OCO2\n",
    "\n",
    "name = 'oco2_co2_just_middle_east_new'\n",
    "data = np.loadtxt('./'+str(name)+'.txt',dtype=[('lat','f8'),('lon','f8'),('time','i4'),('co2','f8'),('var','f8')])\n",
    "\n",
    "oco1 = [72,24,6]\n",
    "oco2 = [1,3,12]\n",
    "######################\n",
    "k    = [oco1[2],oco2[2]]\n",
    "j    = 0 \n",
    "######################\n",
    "save = np.zeros((8,k[0]))\n",
    "\n",
    "for i in range(k[0]):\n",
    "    if i==31:\n",
    "        continue\n",
    "    save[1,i] = np.mean(data['co2'][(data['time']>=j+1+(i*k[1]))&(data['time']<=j+(i+1)*k[1])])\n",
    "    save[2,i] = np.max(data['co2'][(data['time']>=j+1+(i*k[1]))&(data['time']<=j+(i+1)*k[1])])\n",
    "    save[3,i] = np.min(data['co2'][(data['time']>=j+1+(i*k[1]))&(data['time']<=j+(i+1)*k[1])])\n",
    "    save[4,i] = np.std(data['co2'][(data['time']>=j+1+(i*k[1]))&(data['time']<=j+(i+1)*k[1])])\n",
    "    save[5,i] = skew(data['co2'][(data['time']>=j+1+(i*k[1]))&(data['time']<=j+(i+1)*k[1])])\n",
    "    save[6,i] = kurtosis(data['co2'][(data['time']>=j+1+(i*k[1]))&(data['time']<=j+(i+1)*k[1])])\n",
    "    save[7,i] = len(data['co2'][(data['time']>=j+1+(i*k[1]))&(data['time']<=j+(i+1)*k[1])])\n",
    "    save[0,i] = i+1\n",
    "\n",
    "np.savetxt('./table_'+str(name)+'_'+str(k[0])+'.txt',save.T,fmt='      '.join(['%i']+['%1.2f']*6+['%i']),\n",
    "           header='No   mean         max         min         std     skew    kurtosis     N_sample')\n",
    "#plt.xlim(0.,k[0]+1)\n",
    "#plt.errorbar(save[0],save[1], yerr=save[4],fmt='o')"
   ]
  },
  {
   "cell_type": "code",
   "execution_count": null,
   "metadata": {},
   "outputs": [],
   "source": []
  },
  {
   "cell_type": "code",
   "execution_count": null,
   "metadata": {},
   "outputs": [],
   "source": []
  }
 ],
 "metadata": {
  "kernelspec": {
   "display_name": "Python 3 (ipykernel)",
   "language": "python",
   "name": "python3"
  },
  "language_info": {
   "codemirror_mode": {
    "name": "ipython",
    "version": 3
   },
   "file_extension": ".py",
   "mimetype": "text/x-python",
   "name": "python",
   "nbconvert_exporter": "python",
   "pygments_lexer": "ipython3",
   "version": "3.11.3"
  }
 },
 "nbformat": 4,
 "nbformat_minor": 2
}

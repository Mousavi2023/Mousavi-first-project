{
 "cells": [
  {
   "cell_type": "code",
   "execution_count": 1,
   "metadata": {
    "scrolled": false
   },
   "outputs": [
    {
     "ename": "ModuleNotFoundError",
     "evalue": "No module named 'rasterio'",
     "output_type": "error",
     "traceback": [
      "\u001b[1;31m---------------------------------------------------------------------------\u001b[0m",
      "\u001b[1;31mModuleNotFoundError\u001b[0m                       Traceback (most recent call last)",
      "Cell \u001b[1;32mIn[1], line 8\u001b[0m\n\u001b[0;32m      6\u001b[0m \u001b[38;5;28;01mimport\u001b[39;00m \u001b[38;5;21;01mos\u001b[39;00m\n\u001b[0;32m      7\u001b[0m \u001b[38;5;28;01mfrom\u001b[39;00m \u001b[38;5;21;01mIPython\u001b[39;00m\u001b[38;5;21;01m.\u001b[39;00m\u001b[38;5;21;01mdisplay\u001b[39;00m \u001b[38;5;28;01mimport\u001b[39;00m clear_output\n\u001b[1;32m----> 8\u001b[0m \u001b[38;5;28;01mimport\u001b[39;00m \u001b[38;5;21;01mrasterio\u001b[39;00m \u001b[38;5;28;01mas\u001b[39;00m \u001b[38;5;21;01mrio\u001b[39;00m\n\u001b[0;32m      9\u001b[0m \u001b[38;5;28;01mfrom\u001b[39;00m \u001b[38;5;21;01mrasterio\u001b[39;00m\u001b[38;5;21;01m.\u001b[39;00m\u001b[38;5;21;01menums\u001b[39;00m \u001b[38;5;28;01mimport\u001b[39;00m Resampling\n\u001b[0;32m     10\u001b[0m \u001b[38;5;28;01mfrom\u001b[39;00m \u001b[38;5;21;01mrasterio\u001b[39;00m\u001b[38;5;21;01m.\u001b[39;00m\u001b[38;5;21;01mprofiles\u001b[39;00m \u001b[38;5;28;01mimport\u001b[39;00m DefaultGTiffProfile\n",
      "\u001b[1;31mModuleNotFoundError\u001b[0m: No module named 'rasterio'"
     ]
    }
   ],
   "source": [
    "import numpy as np\n",
    "from PIL import Image\n",
    "import matplotlib.pyplot as plt\n",
    "import matplotlib.path as mplPath\n",
    "from scipy import stats\n",
    "import os\n",
    "from IPython.display import clear_output\n",
    "import rasterio as rio\n",
    "from rasterio.enums import Resampling\n",
    "from rasterio.profiles import DefaultGTiffProfile\n",
    "\n",
    "def CreateFolder(directory):\n",
    "    try :\n",
    "        if not os.path.exists(directory):\n",
    "            os.makedirs(directory)\n",
    "    except OSError:\n",
    "        print('Error: Creating directory.' + directory)\n",
    "\n",
    "name1     = 'co2'\n",
    "name2     = 'cog'\n",
    "\n",
    "CreateFolder('./'+str(name2)+'_down_sampled')\n",
    "\n",
    "path1     = './'+str(name1)\n",
    "path2     = './'+str(name2)\n",
    "\n",
    "cond      = 10\n",
    "\n",
    "path_list1 = sorted([f for f in os.listdir(str(path1)) if f.endswith('.tif')])\n",
    "path_list2 = sorted([f for f in os.listdir(str(path2)) if f.endswith('.tif')])\n",
    "ds         = rio.open(str(path1)+'/'+str(path_list1[0]))\n",
    "d_shape    = (ds.shape[0],ds.shape[1],2,len(path_list1))\n",
    "corr0      = -3000*np.ones((d_shape) ,dtype=np.float32)\n",
    "corr       = -3000*np.ones((ds.shape),dtype=np.float32)\n",
    "sp_cor     = np.zeros((len(path_list1),3))\n",
    "ds.close()\n",
    "\n",
    "for i,file1 in enumerate(path_list1):\n",
    "    ds1 = rio.open(str(path1)+'/'+str(file1))\n",
    "    ds2 = rio.open(str(path2)+'/'+str(path_list2[i]))\n",
    "    \n",
    "    upscale_factor = 1/10\n",
    "    data2 = ds2.read(out_shape=(ds2.count,int(ds2.height*upscale_factor),int(ds2.width*upscale_factor)),\n",
    "                    resampling=Resampling.average)\n",
    "    transform = ds2.transform*ds2.transform.scale((ds2.width / data2.shape[-1]),(ds2.height / data2.shape[-2]))\n",
    "    \n",
    "    ind = np.array(np.where(data2[0]>-10))\n",
    "    x,y = rio.transform.xy(transform,ind[0],ind[1],offset='center')\n",
    "    xy  = np.array([x,y])\n",
    "\n",
    "    row,col = rio.transform.rowcol(ds1.transform,xy[0],xy[1])\n",
    "    rc      = np.array([row,col])\n",
    "\n",
    "    kwds  = ds1.profile\n",
    "    kwds['nodata'] = -3000.0\n",
    "    \n",
    "    ds3   = rio.open('./'+str(name2)+'_down_sampled/'+str(path_list2[i]), 'w', **kwds)\n",
    "    s     = -3000*np.ones((ds1.shape),dtype=np.float32)\n",
    "    data1 = ds1.read(1)\n",
    "    ind1  = np.array(np.where(data1>-10)).T\n",
    "    for j in range(ind1.shape[0]):\n",
    "        A = (rc[0]==ind1[j,0])&(rc[1]==ind1[j,1])\n",
    "        if len(A[A==True])>0:\n",
    "            s[ind1[j,0],ind1[j,1]] = np.mean(data2[0,ind[0,A],ind[1,A]])\n",
    "            corr0[ind1[j,0],ind1[j,1],0,i] = s[ind1[j,0],ind1[j,1]]\n",
    "            corr0[ind1[j,0],ind1[j,1],1,i] = data1[ind1[j,0],ind1[j,1]]\n",
    "                 \n",
    "    ds3.write(s,1)\n",
    "    ind2 = np.array((data1>-10)&(s>-10))\n",
    "    A    = stats.spearmanr(data1[ind2], s[ind2])\n",
    "    sp_cor[i,0] = i\n",
    "    sp_cor[i,1] = A[0]\n",
    "    sp_cor[i,2] = A[1]\n",
    "    ds1.close()\n",
    "    ds2.close()\n",
    "    ds3.close()\n",
    "    \n",
    "np.savetxt('./'+str(name1)+'_'+str(name2)+'_Spatial_correlation.txt',sp_cor,fmt='     '.join(['%i']+['%1.2f']*2)\n",
    "           ,header = 'No   Spearman_Corr   Significante ')\n",
    "\n",
    "np.save('./'+str(name2)+'_corr0.npy', corr0)"
   ]
  },
  {
   "cell_type": "code",
   "execution_count": null,
   "metadata": {},
   "outputs": [],
   "source": []
  }
 ],
 "metadata": {
  "kernelspec": {
   "display_name": "Python 3 (ipykernel)",
   "language": "python",
   "name": "python3"
  },
  "language_info": {
   "codemirror_mode": {
    "name": "ipython",
    "version": 3
   },
   "file_extension": ".py",
   "mimetype": "text/x-python",
   "name": "python",
   "nbconvert_exporter": "python",
   "pygments_lexer": "ipython3",
   "version": "3.11.3"
  }
 },
 "nbformat": 4,
 "nbformat_minor": 2
}

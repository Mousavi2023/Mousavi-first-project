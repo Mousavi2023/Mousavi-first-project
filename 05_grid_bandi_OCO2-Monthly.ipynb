{
 "cells": [
  {
   "cell_type": "code",
   "execution_count": 1,
   "metadata": {
    "scrolled": false
   },
   "outputs": [],
   "source": [
    "import numpy as np\n",
    "from PIL import Image\n",
    "import matplotlib.pyplot as plt\n",
    "import matplotlib.path as mplPath\n",
    "from scipy import stats\n",
    "import os\n",
    "\n",
    "def CreateFolder(directory):\n",
    "    try :\n",
    "        if not os.path.exists(directory):\n",
    "            os.makedirs(directory)\n",
    "    except OSError:\n",
    "        print('Error: Creating directory.' + directory)\n",
    "        \n",
    "        \n",
    "folder = './CO2_Grid_buf_mid'\n",
    "CreateFolder(str(folder))\n",
    "\n",
    "        \n",
    "name      = 'Co2_buf_mid'\n",
    "\n",
    "path      = './'+str(name)\n",
    "\n",
    "path_list = sorted([f for f in os.listdir(str(path)) if f.endswith('.txt')])\n",
    "\n",
    "n_m = 72\n",
    "\n",
    "##########################\n",
    "n_g = 0.25\n",
    "y   = np.arange(11,44.5,n_g)\n",
    "x   = np.arange(23,65.5,n_g)\n",
    "\n",
    "for k,file in enumerate(path_list):\n",
    "    d   = np.loadtxt(str(name)+'/'+str(file))\n",
    "    lat = []\n",
    "    lon = []\n",
    "    t   = []\n",
    "    co2 = []\n",
    "    std = []\n",
    "    n_m = np.unique(d[:,2])\n",
    "    \n",
    "    for i in range (len(x)-1):\n",
    "        for j in range (len(y)-1):\n",
    "            if any((y[j]<=d[:,0])&(d[:,0]<y[j+1])&(x[i]<=d[:,1])&(d[:,1]<x[i+1])) == False:\n",
    "                continue\n",
    "            co2.append(np.mean(d[(y[j]<=d[:,0])&(d[:,0]<y[j+1])&(x[i]<=d[:,1])&(d[:,1]<x[i+1]),3]))\n",
    "            t.append(n_m[0])\n",
    "            lat.append(np.mean(d[(y[j]<=d[:,0])&(d[:,0]<y[j+1])&(x[i]<=d[:,1])&(d[:,1]<x[i+1]),0]))\n",
    "            lon.append(np.mean(d[(y[j]<=d[:,0])&(d[:,0]<y[j+1])&(x[i]<=d[:,1])&(d[:,1]<x[i+1]),1]))\n",
    "            std.append(np.max(d[(y[j]<=d[:,0])&(d[:,0]<y[j+1])&(x[i]<=d[:,1])&(d[:,1]<x[i+1]),4])) \n",
    "    d_n = np.zeros((len(co2)),dtype=[('lat','f8'),('lon','f8'),('t','i'),('co2','f8'),('std','f8')])\n",
    "    d_n['lat'] = lat\n",
    "    d_n['lon'] = lon\n",
    "    d_n['t']   = t\n",
    "    d_n['co2'] = co2\n",
    "    d_n['std'] = std\n",
    "    np.savetxt(str(folder)+'/'+str(file),d_n,fmt='     '.join(['%1.4f']*2+['%i']+['%1.4f']+['%1.4f']),\n",
    "               header= 'latitude  longitud    time      co2    variance')"
   ]
  },
  {
   "cell_type": "code",
   "execution_count": null,
   "metadata": {},
   "outputs": [],
   "source": []
  }
 ],
 "metadata": {
  "kernelspec": {
   "display_name": "Python 3 (ipykernel)",
   "language": "python",
   "name": "python3"
  },
  "language_info": {
   "codemirror_mode": {
    "name": "ipython",
    "version": 3
   },
   "file_extension": ".py",
   "mimetype": "text/x-python",
   "name": "python",
   "nbconvert_exporter": "python",
   "pygments_lexer": "ipython3",
   "version": "3.11.3"
  }
 },
 "nbformat": 4,
 "nbformat_minor": 2
}

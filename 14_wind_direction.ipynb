{
 "cells": [
  {
   "cell_type": "code",
   "execution_count": 1,
   "id": "15e56361",
   "metadata": {},
   "outputs": [],
   "source": [
    "import numpy as np\n",
    "import matplotlib.pyplot as plt\n",
    "import matplotlib.path as mplPath\n",
    "from scipy import stats\n",
    "import os\n",
    "from IPython.display import clear_output\n",
    "import rasterio as rio\n",
    "\n",
    "\n",
    "def CreateFolder(directory):\n",
    "    try :\n",
    "        if not os.path.exists(directory):\n",
    "            os.makedirs(directory)\n",
    "    except OSError:\n",
    "        print('Error: Creating directory.' + directory)\n",
    "        \n",
    "\n",
    "CreateFolder('./wind_drection_file')\n",
    "\n",
    "name1     = 'uv'\n",
    "path      = './'+str(name1)\n",
    "\n",
    "\n",
    "path_list1 = sorted([f for f in os.listdir(str(path)) if f.endswith('.tif') and f.startswith('u') ])\n",
    "path_list2 = sorted([f for f in os.listdir(str(path)) if f.endswith('.tif') and f.startswith('v') ])\n",
    "\n",
    "\n",
    "for i,file in enumerate(path_list1):\n",
    "    dsu   = rio.open(str(path)+'/'+str(file))\n",
    "    dsv   = rio.open(str(path)+'/'+str(path_list2[i]))\n",
    "    datau = dsu.read(1)\n",
    "    datav = dsv.read(1)\n",
    "    kwds  = dsu.profile\n",
    "    arctan= np.arctan2(datau,datav) * 180 / np.pi\n",
    "    arctan[arctan<0] = arctan[arctan<0] + 360\n",
    "    \n",
    "    arctan[datau==kwds['nodata']] = kwds['nodata']\n",
    "    arctan[datav==kwds['nodata']] = kwds['nodata']\n",
    "    \n",
    "    ds    = rio.open('./wind_drection_file/v'+str(file), 'w', **kwds)  \n",
    "    ds.write(arctan,1)\n",
    "    ds.close()"
   ]
  },
  {
   "cell_type": "code",
   "execution_count": null,
   "id": "e3c88c6c",
   "metadata": {},
   "outputs": [],
   "source": []
  }
 ],
 "metadata": {
  "kernelspec": {
   "display_name": "Python 3 (ipykernel)",
   "language": "python",
   "name": "python3"
  },
  "language_info": {
   "codemirror_mode": {
    "name": "ipython",
    "version": 3
   },
   "file_extension": ".py",
   "mimetype": "text/x-python",
   "name": "python",
   "nbconvert_exporter": "python",
   "pygments_lexer": "ipython3",
   "version": "3.11.3"
  }
 },
 "nbformat": 4,
 "nbformat_minor": 5
}

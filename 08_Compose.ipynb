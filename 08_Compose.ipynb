{
 "cells": [
  {
   "cell_type": "code",
   "execution_count": 1,
   "metadata": {
    "scrolled": false
   },
   "outputs": [],
   "source": [
    "import numpy as np\n",
    "from PIL import Image\n",
    "import matplotlib.pyplot as plt\n",
    "import matplotlib.path as mplPath\n",
    "from scipy import stats\n",
    "import os\n",
    "\n",
    "def CreateFolder(directory):\n",
    "    try :\n",
    "        if not os.path.exists(directory):\n",
    "            os.makedirs(directory)\n",
    "    except OSError:\n",
    "        print('Error: Creating directory.' + directory)\n",
    "        \n",
    "        \n",
    "name      = 'CO2_Grid_buf_mid'\n",
    "\n",
    "path      = './'+str(name)\n",
    "\n",
    "path_list = sorted([f for f in os.listdir(str(path)) if f.endswith('.txt')])\n",
    "d         = np.loadtxt(str(name)+'/'+str(path_list[0]))\n",
    "##########################\n",
    "for k,file in enumerate(path_list[1:]):\n",
    "    d1   = np.loadtxt(str(name)+'/'+str(file))\n",
    "    d = np.concatenate((d,d1),axis=0)\n",
    "\n",
    "np.savetxt('./Grid_oco2_co2_middle_east_1.txt',d,fmt='     '.join(['%1.4f']*2+['%i']+['%1.4f']+['%1.4f']),\n",
    "           header= 'latitude  longitud    time      co2    variance')"
   ]
  },
  {
   "cell_type": "code",
   "execution_count": null,
   "metadata": {},
   "outputs": [],
   "source": []
  }
 ],
 "metadata": {
  "kernelspec": {
   "display_name": "Python 3 (ipykernel)",
   "language": "python",
   "name": "python3"
  },
  "language_info": {
   "codemirror_mode": {
    "name": "ipython",
    "version": 3
   },
   "file_extension": ".py",
   "mimetype": "text/x-python",
   "name": "python",
   "nbconvert_exporter": "python",
   "pygments_lexer": "ipython3",
   "version": "3.11.3"
  }
 },
 "nbformat": 4,
 "nbformat_minor": 2
}

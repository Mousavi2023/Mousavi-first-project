{
 "cells": [
  {
   "cell_type": "code",
   "execution_count": 1,
   "id": "09e78308",
   "metadata": {},
   "outputs": [],
   "source": [
    "import numpy as np\n",
    "#import numpy.ma as ma\n",
    "\n",
    "#from PIL import Image\n",
    "import matplotlib.pyplot as plt\n",
    "import matplotlib.path as mplPath\n",
    "from matplotlib import ticker\n",
    "\n",
    "\n",
    "import os\n",
    "#from IPython.display import clear_output\n",
    "#import rasterio as rio\n",
    "#from rasterio.enums import Resampling\n",
    "#from rasterio.profiles import DefaultGTiffProfile\n",
    "\n",
    "#from scipy import special\n",
    "#from scipy.optimize import curve_fit\n",
    "#from scipy.fft import fft, fftfreq\n",
    "#from scipy.stats import chisquare\n",
    "#from scipy import stats\n",
    "#from scipy.interpolate import UnivariateSpline\n",
    "#import scipy.signal as signal\n",
    "\n",
    "#from sklearn import tree\n",
    "#from sklearn.inspection import DecisionBoundaryDisplay\n",
    "#from sklearn.preprocessing import StandardScaler\n",
    "#from sklearn.model_selection import train_test_split\n",
    "#from sklearn.metrics import f1_score\n",
    "\n",
    "plt.rcParams['text.usetex']=True\n",
    "plt.style.use('classic')\n",
    "\n",
    "    \n",
    "def Prepare(indx,data0,data1,data2,data3,dth,uth):\n",
    "    cond    = (indx[:,0]==1)&(indx[:,1]==2015)&(data3>=dth)&(data3<uth)\n",
    "    pix_loc = list(np.unique(indx[cond,2]))\n",
    "    for y in range (2015,2020):\n",
    "        for m in range(1,13):\n",
    "            if m == 8 and y == 2017:\n",
    "                continue\n",
    "            cond    = (indx[:,0]==m)&(indx[:,1]==y)&(data3>=dth)&(data3<uth)\n",
    "            pix_loc = list(set(np.unique(indx[cond,2])) & set(pix_loc))\n",
    "            \n",
    "    pix_loc = np.array(pix_loc)\n",
    "    tem = []\n",
    "    odi = [] \n",
    "    ndv = []\n",
    "    co2 = []\n",
    "    \n",
    "    for y in range (2015,2020):\n",
    "        for m in range(1,13):\n",
    "            if m == 8 and y == 2017:\n",
    "                continue\n",
    "            cond  = (indx[:,0]==m)&(indx[:,1]==y)&(np.isin(indx[:,2],pix_loc))\n",
    "            co2.append(data0[cond])\n",
    "            tem.append(data1[cond])\n",
    "            ndv.append(data2[cond])\n",
    "            odi.append(data3[cond])\n",
    "\n",
    "    tem  = np.array(tem).T\n",
    "    odi  = np.array(odi).T\n",
    "    ndv  = np.array(ndv).T\n",
    "    co2  = np.array(co2).T\n",
    "    \n",
    "    return co2,odi,tem,ndv,pix_loc\n",
    "\n",
    "def Correlator(odi,xdata,ydata):\n",
    "    month = np.arange(0,odi.shape[1],1,dtype=np.int32)\n",
    "    result = np.zeros(month.shape)\n",
    "    for m in (month):\n",
    "        result[m] = stats.pearsonr(xdata[:,m],ydata[:,m])[0]\n",
    "        #result[m] = stats.spearmanr(xdata[:,m],ydata[:,m])[0]\n",
    "    return result\n",
    "\n",
    "def Ave(result,l=3):\n",
    "    reave = [[],[]]\n",
    "    for i in range(0,59,l):\n",
    "        if i>=31:\n",
    "            j = i-1\n",
    "        else:\n",
    "            j = i\n",
    "        if i == 30:\n",
    "            k = j + 2\n",
    "        else :\n",
    "            k = j + 3\n",
    "        reave[0].append(np.mean(result[j:k]))\n",
    "        reave[1].append(np.std(result[j:k]))\n",
    "    return np.array(reave)\n",
    "\n",
    "\n",
    "def DataDiscriminator(index):\n",
    "    nmonth = len(data_total)\n",
    "    data   = np.zeros((5,nmonth))\n",
    "    for k in range (nmonth):\n",
    "        data[0,k] = data_total[k][:,2][0]\n",
    "        data[1,k] = np.nanmean(data_total[k][:,index])\n",
    "        data[2,k] = np.nanstd(data_total[k][:,index])\n",
    "        data[3,k] = stats.skew(data_total[k][:,index],nan_policy='omit')\n",
    "        data[4,k] = stats.kurtosis(data_total[k][:,index],nan_policy='omit')\n",
    "    return data\n",
    "\n",
    "def DataTrend(index,funcname):\n",
    "    \n",
    "    result     = DataDiscriminator(index)\n",
    "    popt, pcov = curve_fit(funcname, result[0],result[1])\n",
    "    \n",
    "    print('Param:')\n",
    "    print(popt)\n",
    "    print()\n",
    "    print('Errors:')\n",
    "    print(np.sqrt(np.diag(pcov)))\n",
    "    print()\n",
    "    print('Mean (Fit) , Mean (Data):')\n",
    "    print(np.mean(funcname(result[0],*popt)),np.mean(result[1]))\n",
    "    print()\n",
    "    print('Chi2:')\n",
    "    print(np.sum((result[1]-funcname(result[0],*popt))**2/result[2]**2))\n",
    "    return result,popt,pcov\n",
    "\n",
    "\n",
    "def LS(period,t,x):\n",
    "    w       = 2*np.pi/period \n",
    "    return signal.lombscargle(t, x, w, normalize=True)"
   ]
  },
  {
   "cell_type": "code",
   "execution_count": 2,
   "id": "8000f3b7",
   "metadata": {},
   "outputs": [],
   "source": [
    "path = './sec2/'\n",
    "\n",
    "path_list  = sorted([f for f in os.listdir(str(path)) if f.endswith('.txt')])\n",
    "data_total = []\n",
    "for k in range (len(path_list)):\n",
    "    data = np.loadtxt(path+path_list[k])\n",
    "    data_total.append(data)"
   ]
  },
  {
   "cell_type": "code",
   "execution_count": 3,
   "id": "e6d6f2bc",
   "metadata": {},
   "outputs": [
    {
     "name": "stderr",
     "output_type": "stream",
     "text": [
      "C:\\Users\\asus\\Anaconda3\\lib\\site-packages\\ipykernel_launcher.py:3: RuntimeWarning: invalid value encountered in greater\n",
      "  This is separate from the ipykernel package so we can avoid doing imports until\n",
      "C:\\Users\\asus\\Anaconda3\\lib\\site-packages\\ipykernel_launcher.py:4: RuntimeWarning: invalid value encountered in greater\n",
      "  after removing the cwd from sys.path.\n",
      "C:\\Users\\asus\\Anaconda3\\lib\\site-packages\\ipykernel_launcher.py:5: RuntimeWarning: invalid value encountered in greater\n",
      "  \"\"\"\n",
      "C:\\Users\\asus\\Anaconda3\\lib\\site-packages\\ipykernel_launcher.py:6: RuntimeWarning: invalid value encountered in greater\n",
      "  \n",
      "C:\\Users\\asus\\Anaconda3\\lib\\site-packages\\ipykernel_launcher.py:7: RuntimeWarning: invalid value encountered in greater\n",
      "  import sys\n",
      "C:\\Users\\asus\\Anaconda3\\lib\\site-packages\\ipykernel_launcher.py:8: RuntimeWarning: invalid value encountered in greater\n",
      "  \n"
     ]
    }
   ],
   "source": [
    "thre = []\n",
    "for i in range(len(data_total)):\n",
    "    low    = int(10**np.percentile(np.log10(data_total[i][:,6][data_total[i][:,6]>0]),16))\n",
    "    high   = int(10**np.percentile(np.log10(data_total[i][:,6][data_total[i][:,6]>0]),84))\n",
    "    medianl= int(10**np.percentile(np.log10(data_total[i][:,6][data_total[i][:,6]>0]),42))\n",
    "    medianh= int(10**np.percentile(np.log10(data_total[i][:,6][data_total[i][:,6]>0]),58))\n",
    "    std    = 10**np.nanstd(np.log10(data_total[i][:,6][data_total[i][:,6]>0]))\n",
    "    maxi   = int(np.nanmax(data_total[i][:,6][data_total[i][:,6]>0])) + 1\n",
    "    thre.append((low,medianl,medianh,high,maxi,std))\n",
    "thre = np.mean(np.array(thre),axis=0)\n",
    "#plt.hist(np.log10(data_total[4][:,6][data_total[4][:,6]>0]),bins=30)"
   ]
  },
  {
   "cell_type": "code",
   "execution_count": 4,
   "id": "f01d51e5",
   "metadata": {},
   "outputs": [],
   "source": [
    "# plt.plot(data_total[4][:,-1][data_total[4][:,6]>high],'r.')\n",
    "# plt.plot(data_total[4][:,-1][(data_total[4][:,6]>medianl)&(data_total[4][:,6]<medianh)&(data_total[4][:,-1]<256)]\n",
    "#          ,'b.')\n",
    "\n",
    "# # plt.hist(data_total[4][:,-1][(data_total[4][:,-1]<256)]\n",
    "# #          ,bins=15,density=True)"
   ]
  },
  {
   "cell_type": "code",
   "execution_count": 5,
   "id": "43bf6a3e",
   "metadata": {},
   "outputs": [],
   "source": [
    "# for i in range(0,12,1):\n",
    "#     print(np.percentile(data_total[i][:,9][~np.isnan(data_total[i][:,9])],16),\n",
    "#           np.percentile(data_total[i][:,9][~np.isnan(data_total[i][:,9])],50),\n",
    "#          np.percentile(data_total[i][:,9][~np.isnan(data_total[i][:,9])],84),\n",
    "#         np.percentile(data_total[i][:,9][~np.isnan(data_total[i][:,9])],100))\n",
    "#     print()\n",
    "    \n",
    "# #plt.hist(data_total[4][:,5],bins=40)"
   ]
  },
  {
   "cell_type": "code",
   "execution_count": 6,
   "id": "058db257",
   "metadata": {
    "scrolled": false
   },
   "outputs": [],
   "source": [
    "# for i in range(len(data_total)):\n",
    "#     print(np.percentile(data_total[i][:,5][~np.isnan(data_total[i][:,5])],16),\n",
    "#           np.percentile(data_total[i][:,5][~np.isnan(data_total[i][:,5])],50),\n",
    "#          np.percentile(data_total[i][:,5][~np.isnan(data_total[i][:,5])],84),\n",
    "#         np.percentile(data_total[i][:,5][~np.isnan(data_total[i][:,5])],100))\n",
    "#     print()\n",
    "    \n",
    "# #plt.hist(data_total[4][:,5],bins=40)"
   ]
  },
  {
   "cell_type": "code",
   "execution_count": 49,
   "id": "bda4e73e",
   "metadata": {},
   "outputs": [
    {
     "name": "stderr",
     "output_type": "stream",
     "text": [
      "C:\\Users\\asus\\Anaconda3\\lib\\site-packages\\ipykernel_launcher.py:7: RuntimeWarning: invalid value encountered in greater\n",
      "  import sys\n",
      "C:\\Users\\asus\\Anaconda3\\lib\\site-packages\\ipykernel_launcher.py:7: RuntimeWarning: invalid value encountered in less_equal\n",
      "  import sys\n"
     ]
    },
    {
     "name": "stdout",
     "output_type": "stream",
     "text": [
      "[31, 26, 23, 18, 39, 59, 61, 55, 63, 54, 46, 47]\n",
      "\n"
     ]
    },
    {
     "name": "stderr",
     "output_type": "stream",
     "text": [
      "C:\\Users\\asus\\Anaconda3\\lib\\site-packages\\ipykernel_launcher.py:7: RuntimeWarning: invalid value encountered in greater\n",
      "  import sys\n",
      "C:\\Users\\asus\\Anaconda3\\lib\\site-packages\\ipykernel_launcher.py:7: RuntimeWarning: invalid value encountered in less_equal\n",
      "  import sys\n"
     ]
    },
    {
     "name": "stdout",
     "output_type": "stream",
     "text": [
      "[1490, 1388, 1175, 1039, 969, 1120, 1693, 1995, 1915, 2196, 1895, 1563]\n",
      "\n"
     ]
    },
    {
     "name": "stderr",
     "output_type": "stream",
     "text": [
      "C:\\Users\\asus\\Anaconda3\\lib\\site-packages\\ipykernel_launcher.py:7: RuntimeWarning: invalid value encountered in greater\n",
      "  import sys\n",
      "C:\\Users\\asus\\Anaconda3\\lib\\site-packages\\ipykernel_launcher.py:7: RuntimeWarning: invalid value encountered in less_equal\n",
      "  import sys\n"
     ]
    },
    {
     "name": "stdout",
     "output_type": "stream",
     "text": [
      "[4, 13, 15, 21, 12, 37, 35, 26, 24, 18, 16, 16]\n",
      "\n"
     ]
    },
    {
     "name": "stderr",
     "output_type": "stream",
     "text": [
      "C:\\Users\\asus\\Anaconda3\\lib\\site-packages\\ipykernel_launcher.py:7: RuntimeWarning: invalid value encountered in greater\n",
      "  import sys\n",
      "C:\\Users\\asus\\Anaconda3\\lib\\site-packages\\ipykernel_launcher.py:7: RuntimeWarning: invalid value encountered in less_equal\n",
      "  import sys\n"
     ]
    },
    {
     "name": "stdout",
     "output_type": "stream",
     "text": [
      "[207, 331, 327, 512, 452, 261, 541, 415, 488, 539, 403, 169]\n",
      "\n"
     ]
    },
    {
     "name": "stderr",
     "output_type": "stream",
     "text": [
      "C:\\Users\\asus\\Anaconda3\\lib\\site-packages\\ipykernel_launcher.py:7: RuntimeWarning: invalid value encountered in greater\n",
      "  import sys\n",
      "C:\\Users\\asus\\Anaconda3\\lib\\site-packages\\ipykernel_launcher.py:7: RuntimeWarning: invalid value encountered in less_equal\n",
      "  import sys\n"
     ]
    },
    {
     "name": "stdout",
     "output_type": "stream",
     "text": [
      "[1, 7, 14, 21, 2, 7, 11, 18, 10, 4, 8, 3]\n",
      "\n"
     ]
    },
    {
     "name": "stderr",
     "output_type": "stream",
     "text": [
      "C:\\Users\\asus\\Anaconda3\\lib\\site-packages\\ipykernel_launcher.py:7: RuntimeWarning: invalid value encountered in greater\n",
      "  import sys\n",
      "C:\\Users\\asus\\Anaconda3\\lib\\site-packages\\ipykernel_launcher.py:7: RuntimeWarning: invalid value encountered in less_equal\n",
      "  import sys\n"
     ]
    },
    {
     "name": "stdout",
     "output_type": "stream",
     "text": [
      "[140, 202, 180, 229, 113, 150, 251, 160, 145, 131, 148, 63]\n",
      "\n"
     ]
    },
    {
     "data": {
      "image/png": "[encoded data removed]",
      "text/plain": [
       "<Figure size 648x1080 with 3 Axes>"
      ]
     },
     "metadata": {
      "needs_background": "light"
     },
     "output_type": "display_data"
    }
   ],
   "source": [
    "def TemBin(d,ndv,odi,b):\n",
    "    y     = [[]for k in range(12)]\n",
    "    yp    = [[]for k in range(12)]\n",
    "    num   = []\n",
    "    for i in range(len(d)):\n",
    "        k    = int(np.mod((d[i][0,2]-1),12))\n",
    "        cond = (d[i][:,5]>ndv[0])&(d[i][:,5]<=ndv[1])&(d[i][:,6]>odi[0])&(d[i][:,6]<=odi[1])&(d[i][:,-1]==b)\n",
    "        y[k].append(d[i][cond,8][~np.isnan(d[i][cond,8])])        \n",
    "    for i in range(12):\n",
    "        for sublist in y[i]:\n",
    "            for item in sublist:\n",
    "                yp[i].append(item)\n",
    "        num.append(len(yp[i]))\n",
    "    return yp,num\n",
    "\n",
    "\n",
    "\n",
    "fig, (ax1,ax2,ax3) = plt.subplots(nrows=3, ncols=1, figsize=(9, 15))\n",
    "#plt.subplots_adjust(hspace=0.)\n",
    "\n",
    "axs     = [ax1,ax2,ax3]\n",
    "indx    = [0,1,2]\n",
    "\n",
    "ndvithre  = [-10,0.3,0.5,10] #NDVI thresholds \n",
    "landcover = 13               #landcover\n",
    "\n",
    "\n",
    "labels  = ['Jan', 'Feb', 'Mar','Apr','May','Jun','Jul','Aug','Sep','Oct','Nov','Dec']\n",
    "\n",
    "for ax,ind in zip(axs,indx):\n",
    "    #print([ndvithre[ind],ndvithre[ind+1]],[thre[1],thre[2]])\n",
    "    y,num        = TemBin(data_total,[ndvithre[ind],ndvithre[ind+1]],[thre[1],thre[2]],landcover)\n",
    "    medianprops  = dict(linestyle='--', linewidth=2.5, color='g')\n",
    "    boxprops     = dict(linestyle='-', linewidth=2, color='g',facecolor='green',hatch = '//',alpha=0.4)\n",
    "    whiskerprops = dict(linestyle='-', linewidth=1, color='g')\n",
    "    capprops     = dict(linestyle='-', linewidth=1, color='g')\n",
    "    print(num)\n",
    "    print()\n",
    "    bplot1 = ax.boxplot(y,\n",
    "                        whis        =[16,84],\n",
    "                        showfliers  =False,\n",
    "                        vert        =True,\n",
    "                        patch_artist=True,\n",
    "                        boxprops    =boxprops,\n",
    "                        medianprops =medianprops,\n",
    "                        whiskerprops=whiskerprops,\n",
    "                        capprops    =capprops,\n",
    "                        labels      =labels) \n",
    "\n",
    "    \n",
    "    #print([ndvithre[ind],ndvithre[ind+1]],[thre[3],thre[4]])\n",
    "    y,num        = TemBin(data_total,[ndvithre[ind],ndvithre[ind+1]],[thre[3],thre[4]],landcover)\n",
    "    medianprops  = dict(linestyle='--', linewidth=2, color='r')\n",
    "    boxprops     = dict(linestyle='-', linewidth=2, color='r',facecolor='red',hatch = '..',alpha=0.4)\n",
    "    whiskerprops = dict(linestyle='-', linewidth=1, color='r')\n",
    "    capprops     = dict(linestyle='-', linewidth=1, color='r')\n",
    "    print(num)\n",
    "    print()\n",
    "    bplot2 = ax.boxplot(y,\n",
    "                        whis        =[16,84],\n",
    "                        showfliers  =False,\n",
    "                        vert        =True,\n",
    "                        patch_artist=True, \n",
    "                        boxprops    =boxprops,\n",
    "                        medianprops =medianprops,\n",
    "                        whiskerprops=whiskerprops,\n",
    "                        capprops    =capprops,\n",
    "                        labels      =labels) \n",
    "    \n",
    "    \n",
    "    ax.set_ylim(1,39)\n",
    "    \n",
    "    #ax.yaxis.grid(True)\n",
    "ax1.text(1,35,r'$\\rm NDVI<0.3$',fontsize=16)\n",
    "ax2.text(1,35,r'$\\rm 0.3<NDVI<0.5$',fontsize=16)\n",
    "ax3.text(1,35,r'$\\rm NDVI>0.5$',fontsize=16)\n",
    "\n",
    "ax1.xaxis.set_major_formatter(plt.NullFormatter())\n",
    "ax2.xaxis.set_major_formatter(plt.NullFormatter())\n",
    "ax3.set_xlabel(r'$\\rm Month$')\n",
    "\n",
    "ax1.set_ylabel(r'$\\rm Air \\ Tem \\ [C] $')\n",
    "ax2.set_ylabel(r'$\\rm Air \\ Tem \\ [C] $')\n",
    "ax3.set_ylabel(r'$\\rm Air \\ Tem \\ [C] $')\n",
    "\n",
    "ax1.legend([bplot1[\"boxes\"][0], bplot2[\"boxes\"][0]], ['median', 'high'],fontsize=15)\n",
    "\n",
    "plt.savefig('./3_3.tif',bbox_inches='tight')"
   ]
  },
  {
   "cell_type": "code",
   "execution_count": null,
   "id": "f1891564",
   "metadata": {},
   "outputs": [],
   "source": []
  }
 ],
 "metadata": {
  "kernelspec": {
   "display_name": "Python 3 (ipykernel)",
   "language": "python",
   "name": "python3"
  },
  "language_info": {
   "codemirror_mode": {
    "name": "ipython",
    "version": 3
   },
   "file_extension": ".py",
   "mimetype": "text/x-python",
   "name": "python",
   "nbconvert_exporter": "python",
   "pygments_lexer": "ipython3",
   "version": "3.11.3"
  }
 },
 "nbformat": 4,
 "nbformat_minor": 5
}

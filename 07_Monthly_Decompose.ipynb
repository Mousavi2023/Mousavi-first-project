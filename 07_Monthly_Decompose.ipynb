{
 "cells": [
  {
   "cell_type": "code",
   "execution_count": 1,
   "metadata": {},
   "outputs": [],
   "source": [
    "import geopandas as geo\n",
    "import numpy as np\n",
    "import matplotlib.pyplot as plt\n",
    "import matplotlib.path as mplPath\n",
    "import time\n",
    "\n",
    "from scipy.stats import skew\n",
    "from scipy.stats import kurtosis\n",
    "\n",
    "%matplotlib inline\n",
    "plt.style.use('classic')"
   ]
  },
  {
   "cell_type": "code",
   "execution_count": 2,
   "metadata": {},
   "outputs": [],
   "source": [
    "#OCO2\n",
    "\n",
    "name = 'oco2_co2_just_middle_east_new'\n",
    "data = np.loadtxt('./'+str(name)+'.txt',dtype=[('lat','f8'),('lon','f8'),('time','i4'),('co2','f8'),('var','f8')])\n",
    "\n",
    "n_m  = np.unique(data['time'])\n",
    "\n",
    "for i,t in enumerate (n_m):\n",
    "    l = len(data['co2'][data['time']==t])\n",
    "    save= np.zeros((l),dtype=[('lat','f8'),('lon','f8'),('time','i4'),('co2','f8'),('var','f8')])\n",
    "    save['co2'] = data['co2'][data['time']==t] \n",
    "    save['lat'] = data['lat'][data['time']==t] \n",
    "    save['lon'] = data['lon'][data['time']==t] \n",
    "    save['time']= data['time'][data['time']==t] \n",
    "    save['var'] = data['var'][data['time']==t] \n",
    "    \n",
    "    add = './oco2_co2_middle_east_1_'+str(2015+(t-1)//12)+'_%02d.txt' %(np.mod(t-1,12)+1,)\n",
    "    np.savetxt(str(add),save,fmt='      '.join(['%1.4f']*2+['%i']+['%1.4f']*2),\n",
    "               header='latitude  longitud    time      co2    variance')"
   ]
  },
  {
   "cell_type": "code",
   "execution_count": null,
   "metadata": {},
   "outputs": [],
   "source": []
  },
  {
   "cell_type": "code",
   "execution_count": null,
   "metadata": {},
   "outputs": [],
   "source": []
  }
 ],
 "metadata": {
  "kernelspec": {
   "display_name": "Python 3 (ipykernel)",
   "language": "python",
   "name": "python3"
  },
  "language_info": {
   "codemirror_mode": {
    "name": "ipython",
    "version": 3
   },
   "file_extension": ".py",
   "mimetype": "text/x-python",
   "name": "python",
   "nbconvert_exporter": "python",
   "pygments_lexer": "ipython3",
   "version": "3.11.3"
  }
 },
 "nbformat": 4,
 "nbformat_minor": 2
}

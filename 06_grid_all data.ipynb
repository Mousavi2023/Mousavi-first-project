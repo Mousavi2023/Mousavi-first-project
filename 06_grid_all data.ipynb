{
 "cells": [
  {
   "cell_type": "code",
   "execution_count": 1,
   "metadata": {
    "scrolled": false
   },
   "outputs": [
    {
     "name": "stderr",
     "output_type": "stream",
     "text": [
      "C:\\Users\\asus\\Anaconda3\\lib\\site-packages\\numpy\\core\\fromnumeric.py:3118: RuntimeWarning: Mean of empty slice.\n",
      "  out=out, **kwargs)\n",
      "C:\\Users\\asus\\Anaconda3\\lib\\site-packages\\numpy\\core\\_methods.py:85: RuntimeWarning: invalid value encountered in double_scalars\n",
      "  ret = ret.dtype.type(ret / rcount)\n"
     ]
    },
    {
     "ename": "KeyboardInterrupt",
     "evalue": "",
     "output_type": "error",
     "traceback": [
      "\u001b[1;31m---------------------------------------------------------------------------\u001b[0m",
      "\u001b[1;31mKeyboardInterrupt\u001b[0m                         Traceback (most recent call last)",
      "\u001b[1;32m<ipython-input-1-cc6251d5537c>\u001b[0m in \u001b[0;36m<module>\u001b[1;34m\u001b[0m\n\u001b[0;32m     39\u001b[0m     \u001b[1;32mfor\u001b[0m \u001b[0mi\u001b[0m\u001b[1;33m,\u001b[0m\u001b[0mla\u001b[0m \u001b[1;32min\u001b[0m \u001b[0menumerate\u001b[0m \u001b[1;33m(\u001b[0m\u001b[0mx\u001b[0m\u001b[1;33m[\u001b[0m\u001b[1;33m:\u001b[0m\u001b[1;33m-\u001b[0m\u001b[1;36m1\u001b[0m\u001b[1;33m]\u001b[0m\u001b[1;33m)\u001b[0m\u001b[1;33m:\u001b[0m\u001b[1;33m\u001b[0m\u001b[1;33m\u001b[0m\u001b[0m\n\u001b[0;32m     40\u001b[0m         \u001b[1;32mfor\u001b[0m \u001b[0mj\u001b[0m\u001b[1;33m,\u001b[0m\u001b[0mlo\u001b[0m \u001b[1;32min\u001b[0m \u001b[0menumerate\u001b[0m \u001b[1;33m(\u001b[0m\u001b[0my\u001b[0m\u001b[1;33m[\u001b[0m\u001b[1;33m:\u001b[0m\u001b[1;33m-\u001b[0m\u001b[1;36m1\u001b[0m\u001b[1;33m]\u001b[0m\u001b[1;33m)\u001b[0m\u001b[1;33m:\u001b[0m\u001b[1;33m\u001b[0m\u001b[1;33m\u001b[0m\u001b[0m\n\u001b[1;32m---> 41\u001b[1;33m             \u001b[0mcond\u001b[0m \u001b[1;33m=\u001b[0m \u001b[1;33m(\u001b[0m\u001b[0mlo\u001b[0m\u001b[1;33m<=\u001b[0m\u001b[0md\u001b[0m\u001b[1;33m[\u001b[0m\u001b[1;33m:\u001b[0m\u001b[1;33m,\u001b[0m\u001b[1;36m0\u001b[0m\u001b[1;33m]\u001b[0m\u001b[1;33m)\u001b[0m\u001b[1;33m&\u001b[0m\u001b[1;33m(\u001b[0m\u001b[0md\u001b[0m\u001b[1;33m[\u001b[0m\u001b[1;33m:\u001b[0m\u001b[1;33m,\u001b[0m\u001b[1;36m0\u001b[0m\u001b[1;33m]\u001b[0m\u001b[1;33m<\u001b[0m\u001b[0my\u001b[0m\u001b[1;33m[\u001b[0m\u001b[0mj\u001b[0m\u001b[1;33m+\u001b[0m\u001b[1;36m1\u001b[0m\u001b[1;33m]\u001b[0m\u001b[1;33m)\u001b[0m\u001b[1;33m&\u001b[0m\u001b[1;33m(\u001b[0m\u001b[0mla\u001b[0m\u001b[1;33m<=\u001b[0m\u001b[0md\u001b[0m\u001b[1;33m[\u001b[0m\u001b[1;33m:\u001b[0m\u001b[1;33m,\u001b[0m\u001b[1;36m1\u001b[0m\u001b[1;33m]\u001b[0m\u001b[1;33m)\u001b[0m\u001b[1;33m&\u001b[0m\u001b[1;33m(\u001b[0m\u001b[0md\u001b[0m\u001b[1;33m[\u001b[0m\u001b[1;33m:\u001b[0m\u001b[1;33m,\u001b[0m\u001b[1;36m1\u001b[0m\u001b[1;33m]\u001b[0m\u001b[1;33m<\u001b[0m\u001b[0mx\u001b[0m\u001b[1;33m[\u001b[0m\u001b[0mi\u001b[0m\u001b[1;33m+\u001b[0m\u001b[1;36m1\u001b[0m\u001b[1;33m]\u001b[0m\u001b[1;33m)\u001b[0m\u001b[1;33m\u001b[0m\u001b[1;33m\u001b[0m\u001b[0m\n\u001b[0m\u001b[0;32m     42\u001b[0m             \u001b[1;32mif\u001b[0m \u001b[0many\u001b[0m\u001b[1;33m(\u001b[0m\u001b[0mcond\u001b[0m\u001b[1;33m)\u001b[0m \u001b[1;33m==\u001b[0m \u001b[1;32mFalse\u001b[0m\u001b[1;33m:\u001b[0m\u001b[1;33m\u001b[0m\u001b[1;33m\u001b[0m\u001b[0m\n\u001b[0;32m     43\u001b[0m                 \u001b[1;32mcontinue\u001b[0m\u001b[1;33m\u001b[0m\u001b[1;33m\u001b[0m\u001b[0m\n",
      "\u001b[1;31mKeyboardInterrupt\u001b[0m: "
     ]
    }
   ],
   "source": [
    "import numpy as np\n",
    "from PIL import Image\n",
    "import matplotlib.pyplot as plt\n",
    "import matplotlib.path as mplPath\n",
    "from scipy import stats\n",
    "import os\n",
    "import glob\n",
    "\n",
    "def CreateFolder(directory):\n",
    "    try :\n",
    "        if not os.path.exists(directory):\n",
    "            os.makedirs(directory)\n",
    "    except OSError:\n",
    "        print('Error: Creating directory.' + directory)\n",
    "        \n",
    "        \n",
    "folder = './CO2_Gridiy_OCO2'\n",
    "CreateFolder(str(folder))\n",
    "\n",
    "name1 = ['01_LST','02_NDVI','03_ODIAC','04_pre','05_t2m','06_gpp','07_LAI','08_windsp','09_winddir','10_soil',\n",
    "        '11_land_use']\n",
    "        \n",
    "name      = 'section_2'\n",
    "\n",
    "path      = './'+str(name)\n",
    "\n",
    "path_list = sorted(glob.glob(str(path)+'/mix_*'))\n",
    "\n",
    "##########################\n",
    "n_g = 0.1\n",
    "y   = np.arange(11,44.6,n_g)\n",
    "x   = np.arange(23,64.1,n_g)\n",
    "\n",
    "for k,file in enumerate(path_list[:1]):\n",
    "    save = [[] for i in range(15)]\n",
    "    d    = np.loadtxt(str(file))\n",
    "    n_m = np.unique(d[:,2])\n",
    "    \n",
    "    for i,la in enumerate (x[:-1]):\n",
    "        for j,lo in enumerate (y[:-1]):\n",
    "            cond = (lo<=d[:,0])&(d[:,0]<y[j+1])&(la<=d[:,1])&(d[:,1]<x[i+1])\n",
    "            if any(cond) == False:\n",
    "                continue\n",
    "            save[0].append(la+n_g/2)\n",
    "            save[1].append(lo+n_g/2)\n",
    "            save[2].append(n_m[0])\n",
    "            for z in range(3,15,1):\n",
    "                BB = d[cond,z]\n",
    "                save[z].append(np.mean(BB[~np.isnan(BB)]))\n",
    "     \n",
    "\n",
    "    d_n =  np.zeros(len(save[0]),dtype=[('lat','f8'),('lon','f8'),('time','i4'),('co2','f8')]+\n",
    "                    [(str(i),'f8') for i in range (len(name1))])\n",
    "    \n",
    "    d_n['lat'] = save[0]\n",
    "    d_n['lon'] = save[1]\n",
    "    d_n['time']= save[2]\n",
    "    d_n['co2'] = save[3]\n",
    "    for i in range (len(name)):\n",
    "        d_n[str(i)] = save[i+4]\n",
    "    np.savetxt(str(folder)+'/'+str(file[12:]),d_n,fmt='   '.join(['%1.2f']*2+['%i']+['%1.2f']+['%1.2f']+['%1.4f']+\n",
    "                                                             ['%1.1f']+['%1.3f']+['%1.2f']+['%1.4f']*2+['%1.2f']+\n",
    "                                                             ['%1.1f']+['%1.4f']+['%i']),\n",
    "              header='lat  long   time   co2   LST   NDVI   ODIAC   pre    t2m     gpp   LAI   windsp   '+\n",
    "               'wdir  soil  land_use')"
   ]
  },
  {
   "cell_type": "code",
   "execution_count": null,
   "metadata": {},
   "outputs": [],
   "source": []
  }
 ],
 "metadata": {
  "kernelspec": {
   "display_name": "Python 3 (ipykernel)",
   "language": "python",
   "name": "python3"
  },
  "language_info": {
   "codemirror_mode": {
    "name": "ipython",
    "version": 3
   },
   "file_extension": ".py",
   "mimetype": "text/x-python",
   "name": "python",
   "nbconvert_exporter": "python",
   "pygments_lexer": "ipython3",
   "version": "3.11.3"
  }
 },
 "nbformat": 4,
 "nbformat_minor": 2
}
